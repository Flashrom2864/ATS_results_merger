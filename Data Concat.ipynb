{
 "cells": [
  {
   "cell_type": "code",
   "execution_count": 8,
   "id": "d1d28850-6509-4d17-a0d8-e3d89b3c9aa4",
   "metadata": {},
   "outputs": [],
   "source": [
    "import os\n",
    "import pandas as pd\n",
    "import dask.dataframe as dd # this library is probably not used.\n",
    "import numpy\n",
    "\n",
    "# This code uses magic numbers and symbols that may not be consistent on different systems.\n",
    "# It accounts for only a few filepath string variations, as follows: \n",
    "# 'C:\\\\ATC Result 2020-0613\\\\2022-0107\\\\11020434_20220107_1355_press.csv', \n",
    "# 'C:\\\\ATC Result 2020-0613\\\\2022-0124\\\\Morning\\\\11020434_2022124_0932_press.csv' ## Morning, Modified script, Unmodified script\n",
    "# There are a lot of print statements. Feel free to delete them.\n",
    "def list_files(filepath, filetype): # helper method to create a list of specified filetypes within a directory.\n",
    "    paths = []\n",
    "    for root, dirs, files in os.walk(filepath):\n",
    "        for file in files:\n",
    "            if file.lower().endswith(filetype.lower()):\n",
    "                paths.append(os.path.join(root, file))\n",
    "    return paths\n",
    "\n",
    "\n",
    "def parseHelper(badParse): # helper method to deal with parse variations in filepath names. Uses magic strings.\n",
    "    if 'Modified script' in badParse or 'Unmodified Script' in badParse or 'Morning' in badParse:\n",
    "        return badParse.split(\"\\\\\")[4].split(\"_\")\n",
    "    else:\n",
    "        return badParse.split(\"\\\\\")[3].split(\"_\")\n",
    "                                             \n",
    "csv_list = list_files('C:\\ATC Result 2020-0613', \"csv\") # getting the list of csv files in ATC Result 2020-0613\n",
    "snum_list = [] # this list is to keep track of serial numbers that we have already outputted so we don't reuse them."
   ]
  },
  {
   "cell_type": "code",
   "execution_count": null,
   "id": "5a630922-8b16-43f6-b50b-32b7b65802a0",
   "metadata": {},
   "outputs": [
    {
     "name": "stdout",
     "output_type": "stream",
     "text": [
      "11020434\n",
      "11020434\n",
      "11020426\n",
      "11020426\n",
      "11020427\n"
     ]
    }
   ],
   "source": [
    "for scan in csv_list:\n",
    "    # The section below checks for the serial number.\n",
    "    snum = parseHelper(scan)[0]\n",
    "    #print(scan.split(\"\\\\\")[3].split(\"_\")[0])\n",
    "    #print(snum)\n",
    "    \n",
    "    if snum not in snum_list: # where snum_list comes into play\n",
    "        snum_list += [snum]\n",
    "        merge_list = list(filter(lambda x: snum in x, csv_list))\n",
    "        press_list = list(filter(lambda x: 'press' in x, merge_list))\n",
    "        temp_list = list(filter(lambda x: 'Temp' in x, merge_list))\n",
    "        #print(merge_list)\n",
    "        #print(press_list)\n",
    "        #print(temp_list)\n",
    "        # The section below is where the files are combined into SN_press.csv and SN_temp.csv\n",
    "        press_combine = pd.concat([pd.read_csv(f).assign(SN=parseHelper(f)[0]).assign(\n",
    "            Date=parseHelper(f)[1]) for f in press_list], ignore_index=1)\n",
    "        press_combine.rename(columns={'Unnamed: 0':'Original Index'}, inplace=1)\n",
    "        press_combine.to_csv('%s_press.csv' % (snum), index_label='Cumulative Index')\n",
    "\n",
    "        temp_combine = pd.concat([pd.read_csv(f).assign(SN=parseHelper(f)[0]).assign(\n",
    "            Date=parseHelper(f)[1]) for f in temp_list], ignore_index=1)\n",
    "        temp_combine.rename(columns={'Unnamed: 0':'Original Index'}, inplace=1)\n",
    "        #print(temp_combine)\n",
    "        temp_combine.to_csv('%s_temp.csv' % (snum), index_label='Cumulative Index')\n",
    "        #break\n",
    "    #break"
   ]
  },
  {
   "cell_type": "code",
   "execution_count": null,
   "id": "08d8967c-6252-456d-a096-68164fa9d230",
   "metadata": {},
   "outputs": [],
   "source": []
  },
  {
   "cell_type": "code",
   "execution_count": null,
   "id": "3a426923-5386-4f56-a259-222e401aa228",
   "metadata": {},
   "outputs": [],
   "source": []
  },
  {
   "cell_type": "code",
   "execution_count": null,
   "id": "19385bb4-6ffe-463b-aabb-c0c376ea86da",
   "metadata": {
    "tags": []
   },
   "outputs": [],
   "source": []
  }
 ],
 "metadata": {
  "kernelspec": {
   "display_name": "Python 3 (ipykernel)",
   "language": "python",
   "name": "python3"
  },
  "language_info": {
   "codemirror_mode": {
    "name": "ipython",
    "version": 3
   },
   "file_extension": ".py",
   "mimetype": "text/x-python",
   "name": "python",
   "nbconvert_exporter": "python",
   "pygments_lexer": "ipython3",
   "version": "3.9.7"
  }
 },
 "nbformat": 4,
 "nbformat_minor": 5
}
