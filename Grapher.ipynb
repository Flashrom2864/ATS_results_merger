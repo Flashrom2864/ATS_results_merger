{
 "cells": [
  {
   "cell_type": "code",
   "execution_count": 21,
   "id": "7f3dfd66-710b-484e-89c8-df59d085c224",
   "metadata": {},
   "outputs": [
    {
     "ename": "SyntaxError",
     "evalue": "invalid syntax (Temp/ipykernel_10168/3571560764.py, line 11)",
     "output_type": "error",
     "traceback": [
      "\u001b[1;36m  File \u001b[1;32m\"C:\\Users\\Orpyx\\AppData\\Local\\Temp/ipykernel_10168/3571560764.py\"\u001b[1;36m, line \u001b[1;32m11\u001b[0m\n\u001b[1;33m    ax=s_to_plot.plot[(title = \"pressure by sensor\")\u001b[0m\n\u001b[1;37m                             ^\u001b[0m\n\u001b[1;31mSyntaxError\u001b[0m\u001b[1;31m:\u001b[0m invalid syntax\n"
     ]
    }
   ],
   "source": [
    "import pandas as pd\n",
    "from matplotlib import pyplot as plt\n",
    "plt.rcParams[\"figure.figsize\"] = [15, 7.5]\n",
    "plt.rcParams[\"figure.autolayout\"] = True\n",
    "\n",
    "columns= ['r0c0','r3c0','r4c0','r2c0','r1c0', 'r0c1', 'r4c4', 'r0c2', 'r0c3', 'r4c5', 'r2c7', 'r1c7', 'r3c7', 'r4c7', 'r0c7']\n",
    "\n",
    "df=pd.read_csv('11020434_press.csv', usecols=columns, nrows=1000)\n",
    "s=df['pressure']\n",
    "s_to_plot=s.sort_index(ascending=True).tail(7000)\n",
    "ax=s_to_plot.plot[(title = \"pressure by sensor\")\n",
    "ax.set_ylabel('pressure readout')\n",
    "\n",
    "df.plot()\n",
    "\n",
    "plt.show()"
   ]
  },
  {
   "cell_type": "code",
   "execution_count": null,
   "id": "0471a441-4b58-408c-aa49-e310ad7436b0",
   "metadata": {},
   "outputs": [],
   "source": []
  },
  {
   "cell_type": "code",
   "execution_count": null,
   "id": "b2ebe5e4-3245-4128-b4f6-1c6c8525f36f",
   "metadata": {},
   "outputs": [],
   "source": []
  },
  {
   "cell_type": "code",
   "execution_count": null,
   "id": "c52ec5b2-16fe-4f0d-949b-e1c4fd2c4297",
   "metadata": {},
   "outputs": [],
   "source": []
  }
 ],
 "metadata": {
  "kernelspec": {
   "display_name": "Python 3 (ipykernel)",
   "language": "python",
   "name": "python3"
  },
  "language_info": {
   "codemirror_mode": {
    "name": "ipython",
    "version": 3
   },
   "file_extension": ".py",
   "mimetype": "text/x-python",
   "name": "python",
   "nbconvert_exporter": "python",
   "pygments_lexer": "ipython3",
   "version": "3.9.7"
  }
 },
 "nbformat": 4,
 "nbformat_minor": 5
}
